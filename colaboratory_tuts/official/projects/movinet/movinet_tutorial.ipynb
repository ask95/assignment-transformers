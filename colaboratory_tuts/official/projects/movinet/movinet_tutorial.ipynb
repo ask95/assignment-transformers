{
  "cells": [
    {
      "cell_type": "markdown",
      "metadata": {
        "id": "3E96e1UKQ8uR"
      },
      "source": [
        "# MoViNet Tutorial\n",
        "\n",
        "This notebook provides basic example code to build, run, and fine-tune [MoViNets (Mobile Video Networks)](https://arxiv.org/pdf/2103.11511.pdf).\n",
        "\n",
        "Pretrained models are provided by [TensorFlow Hub](https://tfhub.dev/google/collections/movinet/) and the [TensorFlow Model Garden](https://github.com/tensorflow/models/tree/master/official/projects/movinet), trained on [Kinetics 600](https://deepmind.com/research/open-source/kinetics) for video action classification. All Models use TensorFlow 2 with Keras for inference and training.\n",
        "\n",
        "The following steps will be performed:\n",
        "\n",
        "1. [Running base model inference with TensorFlow Hub](#scrollTo=6g0tuFvf71S9&line=8&uniqifier=1)\n",
        "2. [Running streaming model inference with TensorFlow Hub and plotting predictions](#scrollTo=ADrHPmwGcBZ5&line=4&uniqifier=1)\n",
        "3. [Exporting a streaming model to TensorFlow Lite for mobile](#scrollTo=W3CLHvubvdSI&line=3&uniqifier=1)\n",
        "4. [Fine-Tuning a base Model with the TensorFlow Model Garden](#scrollTo=_s-7bEoa3f8g&line=11&uniqifier=1)\n",
        "\n",
        "![jumping jacks plot](https://storage.googleapis.com/tf_model_garden/vision/movinet/artifacts/jumpingjacks_plot.gif)\n",
        "\n",
        "To generate video plots like the one above, see [section 2](#scrollTo=ADrHPmwGcBZ5&line=4&uniqifier=1)."
      ]
    },
    {
      "cell_type": "markdown",
      "metadata": {
        "id": "8_oLnvJy7kz5"
      },
      "source": [
        "## Setup\n",
        "\n",
        "For inference on smaller models (A0-A2), CPU is sufficient for this Colab. For fine-tuning, it is recommended to run the models using GPUs.\n",
        "\n",
        "To select a GPU in Colab, select `Runtime > Change runtime type > Hardware accelerator > GPU` dropdown in the top menu."
      ]
    },
    {
      "cell_type": "code",
      "execution_count": 1,
      "metadata": {
        "id": "s3khsunT7kWa",
        "outputId": "d8bca6a3-4e01-484c-b617-084a04aee978",
        "colab": {
          "base_uri": "https://localhost:8080/"
        }
      },
      "outputs": [
        {
          "output_type": "stream",
          "name": "stdout",
          "text": [
            "\u001b[K     |████████████████████████████████| 2.5 MB 11.0 MB/s \n",
            "\u001b[K     |████████████████████████████████| 43 kB 1.9 MB/s \n",
            "\u001b[K     |████████████████████████████████| 352 kB 59.6 MB/s \n",
            "\u001b[K     |████████████████████████████████| 118 kB 63.5 MB/s \n",
            "\u001b[K     |████████████████████████████████| 1.3 MB 62.3 MB/s \n",
            "\u001b[K     |████████████████████████████████| 238 kB 65.9 MB/s \n",
            "\u001b[K     |████████████████████████████████| 563.5 MB 17 kB/s \n",
            "\u001b[K     |████████████████████████████████| 1.1 MB 68.8 MB/s \n",
            "\u001b[K     |████████████████████████████████| 662 kB 88.4 MB/s \n",
            "\u001b[K     |████████████████████████████████| 5.9 MB 85.9 MB/s \n",
            "\u001b[K     |████████████████████████████████| 1.7 MB 70.3 MB/s \n",
            "\u001b[K     |████████████████████████████████| 5.7 MB 55.9 MB/s \n",
            "\u001b[K     |████████████████████████████████| 439 kB 77.9 MB/s \n",
            "\u001b[?25h  Building wheel for seqeval (setup.py) ... \u001b[?25l\u001b[?25hdone\n",
            "\u001b[31mERROR: pip's dependency resolver does not currently take into account all the packages that are installed. This behaviour is the source of the following dependency conflicts.\n",
            "tensorflow 2.9.2 requires flatbuffers<2,>=1.12, but you have flatbuffers 22.12.6 which is incompatible.\u001b[0m\n",
            "\u001b[K     |████████████████████████████████| 5.2 MB 34.7 MB/s \n",
            "\u001b[K     |████████████████████████████████| 1.6 MB 51.3 MB/s \n",
            "\u001b[K     |████████████████████████████████| 21.6 MB 29.1 MB/s \n",
            "\u001b[?25h"
          ]
        }
      ],
      "source": [
        "# Install packages\n",
        "\n",
        "# tf-models-official is the stable Model Garden package\n",
        "# tf-models-nightly includes latest changes\n",
        "!pip install -q tf-models-nightly\n",
        "\n",
        "# Install tfds nightly to download ucf101\n",
        "!pip install -q tfds-nightly\n",
        "\n",
        "# Install the mediapy package for visualizing images/videos.\n",
        "# See https://github.com/google/mediapy\n",
        "!command -v ffmpeg >/dev/null || (apt update && apt install -y ffmpeg)\n",
        "!pip install -q mediapy\n",
        "\n",
        "# Due to a bug, we reinstall opencv\n",
        "# See https://stackoverflow.com/q/70537488\n",
        "!pip uninstall -q -y opencv-python-headless\n",
        "!pip install -q \"opencv-python-headless<4.3\""
      ]
    },
    {
      "cell_type": "code",
      "execution_count": 2,
      "metadata": {
        "id": "dI_1csl6Q-gH"
      },
      "outputs": [],
      "source": [
        "# Run imports\n",
        "import os\n",
        "\n",
        "import matplotlib as mpl\n",
        "import matplotlib.pyplot as plt\n",
        "import mediapy as media\n",
        "import numpy as np\n",
        "import PIL\n",
        "import pandas as pd\n",
        "import tensorflow as tf\n",
        "import tensorflow_datasets as tfds\n",
        "import tensorflow_hub as hub\n",
        "import tqdm\n",
        "\n",
        "mpl.rcParams.update({\n",
        "    'font.size': 10,\n",
        "})"
      ]
    },
    {
      "cell_type": "markdown",
      "metadata": {
        "id": "OnFqOXazoWgy"
      },
      "source": [
        "Run the cell below to define helper functions and create variables."
      ]
    },
    {
      "cell_type": "code",
      "execution_count": 8,
      "metadata": {
        "id": "dx55NK3ZoZeh"
      },
      "outputs": [],
      "source": [
        "#@title Run this cell to set up some helper code.\n",
        "\n",
        "# Download Kinetics 600 label map\n",
        "!wget https://raw.githubusercontent.com/tensorflow/models/f8af2291cced43fc9f1d9b41ddbf772ae7b0d7d2/official/projects/movinet/files/kinetics_600_labels.txt -O labels.txt -q\n",
        "\n",
        "with tf.io.gfile.GFile('labels.txt') as f:\n",
        "  lines = f.readlines()\n",
        "  KINETICS_600_LABELS_LIST = [line.strip() for line in lines]\n",
        "  KINETICS_600_LABELS = tf.constant(KINETICS_600_LABELS_LIST)\n",
        "\n",
        "def get_top_k(probs, k=5, label_map=KINETICS_600_LABELS):\n",
        "  \"\"\"Outputs the top k model labels and probabilities on the given video.\"\"\"\n",
        "  top_predictions = tf.argsort(probs, axis=-1, direction='DESCENDING')[:k]\n",
        "  top_labels = tf.gather(label_map, top_predictions, axis=-1)\n",
        "  top_labels = [label.decode('utf8') for label in top_labels.numpy()]\n",
        "  top_probs = tf.gather(probs, top_predictions, axis=-1).numpy()\n",
        "  return tuple(zip(top_labels, top_probs))\n",
        "\n",
        "def predict_top_k(model, video, k=5, label_map=KINETICS_600_LABELS):\n",
        "  \"\"\"Outputs the top k model labels and probabilities on the given video.\"\"\"\n",
        "  outputs = model.predict(video[tf.newaxis])[0]\n",
        "  probs = tf.nn.softmax(outputs)\n",
        "  return get_top_k(probs, k=k, label_map=label_map)\n",
        "\n",
        "def load_movinet_from_hub(model_id, model_mode, hub_version=3):\n",
        "  \"\"\"Loads a MoViNet model from TF Hub.\"\"\"\n",
        "  hub_url = f'https://tfhub.dev/tensorflow/movinet/{model_id}/{model_mode}/kinetics-600/classification/{hub_version}'\n",
        "\n",
        "  encoder = hub.KerasLayer(hub_url, trainable=True)\n",
        "\n",
        "  inputs = tf.keras.layers.Input(\n",
        "      shape=[None, None, None, 3],\n",
        "      dtype=tf.float32)\n",
        "\n",
        "  if model_mode == 'base':\n",
        "    inputs = dict(image=inputs)\n",
        "  else:\n",
        "    # Define the state inputs, which is a dict that maps state names to tensors.\n",
        "    init_states_fn = encoder.resolved_object.signatures['init_states']\n",
        "    state_shapes = {\n",
        "        name: ([s if s > 0 else None for s in state.shape], state.dtype)\n",
        "        for name, state in init_states_fn(tf.constant([0, 0, 0, 0, 3])).items()\n",
        "    }\n",
        "    states_input = {\n",
        "        name: tf.keras.Input(shape[1:], dtype=dtype, name=name)\n",
        "        for name, (shape, dtype) in state_shapes.items()\n",
        "    }\n",
        "\n",
        "    # The inputs to the model are the states and the video\n",
        "    inputs = {**states_input, 'image': inputs}\n",
        "\n",
        "  # Output shape: [batch_size, 600]\n",
        "  outputs = encoder(inputs)\n",
        "\n",
        "  model = tf.keras.Model(inputs, outputs)\n",
        "  model.build([1, 1, 1, 1, 3])\n",
        "\n",
        "  return model\n",
        "\n",
        "# Download example gif\n",
        "!wget https://github.com/tensorflow/models/raw/f8af2291cced43fc9f1d9b41ddbf772ae7b0d7d2/official/projects/movinet/files/jumpingjack.gif -O jumpingjack.gif -q\n",
        "!wget https://i.imgur.com/9X3ExTP.gif -O jumpingjack2.gif -q\n",
        "\n",
        "\n",
        "def load_gif(file_path, image_size=(224, 224)):\n",
        "  \"\"\"Loads a gif file into a TF tensor.\"\"\"\n",
        "  with tf.io.gfile.GFile(file_path, 'rb') as f:\n",
        "    video = tf.io.decode_gif(f.read())\n",
        "  video = tf.image.resize(video, image_size)\n",
        "  video = tf.cast(video, tf.float32) / 255.\n",
        "  return video\n",
        "\n",
        "def get_top_k_streaming_labels(probs, k=5, label_map=KINETICS_600_LABELS_LIST):\n",
        "  \"\"\"Returns the top-k labels over an entire video sequence.\n",
        "\n",
        "  Args:\n",
        "    probs: probability tensor of shape (num_frames, num_classes) that represents\n",
        "      the probability of each class on each frame.\n",
        "    k: the number of top predictions to select.\n",
        "    label_map: a list of labels to map logit indices to label strings.\n",
        "\n",
        "  Returns:\n",
        "    a tuple of the top-k probabilities, labels, and logit indices\n",
        "  \"\"\"\n",
        "  top_categories_last = tf.argsort(probs, -1, 'DESCENDING')[-1, :1]\n",
        "  categories = tf.argsort(probs, -1, 'DESCENDING')[:, :k]\n",
        "  categories = tf.reshape(categories, [-1])\n",
        "\n",
        "  counts = sorted([\n",
        "      (i.numpy(), tf.reduce_sum(tf.cast(categories == i, tf.int32)).numpy())\n",
        "      for i in tf.unique(categories)[0]\n",
        "  ], key=lambda x: x[1], reverse=True)\n",
        "\n",
        "  top_probs_idx = tf.constant([i for i, _ in counts[:k]])\n",
        "  top_probs_idx = tf.concat([top_categories_last, top_probs_idx], 0)\n",
        "  top_probs_idx = tf.unique(top_probs_idx)[0][:k+1]\n",
        "\n",
        "  top_probs = tf.gather(probs, top_probs_idx, axis=-1)\n",
        "  top_probs = tf.transpose(top_probs, perm=(1, 0))\n",
        "  top_labels = tf.gather(label_map, top_probs_idx, axis=0)\n",
        "  top_labels = [label.decode('utf8') for label in top_labels.numpy()]\n",
        "\n",
        "  return top_probs, top_labels, top_probs_idx\n",
        "\n",
        "def plot_streaming_top_preds_at_step(\n",
        "    top_probs,\n",
        "    top_labels,\n",
        "    step=None,\n",
        "    image=None,\n",
        "    legend_loc='lower left',\n",
        "    duration_seconds=10,\n",
        "    figure_height=500,\n",
        "    playhead_scale=0.8,\n",
        "    grid_alpha=0.3):\n",
        "  \"\"\"Generates a plot of the top video model predictions at a given time step.\n",
        "\n",
        "  Args:\n",
        "    top_probs: a tensor of shape (k, num_frames) representing the top-k\n",
        "      probabilities over all frames.\n",
        "    top_labels: a list of length k that represents the top-k label strings.\n",
        "    step: the current time step in the range [0, num_frames].\n",
        "    image: the image frame to display at the current time step.\n",
        "    legend_loc: the placement location of the legend.\n",
        "    duration_seconds: the total duration of the video.\n",
        "    figure_height: the output figure height.\n",
        "    playhead_scale: scale value for the playhead.\n",
        "    grid_alpha: alpha value for the gridlines.\n",
        "\n",
        "  Returns:\n",
        "    A tuple of the output numpy image, figure, and axes.\n",
        "  \"\"\"\n",
        "  num_labels, num_frames = top_probs.shape\n",
        "  if step is None:\n",
        "    step = num_frames\n",
        "\n",
        "  fig = plt.figure(figsize=(6.5, 7), dpi=300)\n",
        "  gs = mpl.gridspec.GridSpec(8, 1)\n",
        "  ax2 = plt.subplot(gs[:-3, :])\n",
        "  ax = plt.subplot(gs[-3:, :])\n",
        "\n",
        "  if image is not None:\n",
        "    ax2.imshow(image, interpolation='nearest')\n",
        "    ax2.axis('off')\n",
        "\n",
        "  preview_line_x = tf.linspace(0., duration_seconds, num_frames)\n",
        "  preview_line_y = top_probs\n",
        "\n",
        "  line_x = preview_line_x[:step+1]\n",
        "  line_y = preview_line_y[:, :step+1]\n",
        "\n",
        "  for i in range(num_labels):\n",
        "    ax.plot(preview_line_x, preview_line_y[i], label=None, linewidth='1.5',\n",
        "            linestyle=':', color='gray')\n",
        "    ax.plot(line_x, line_y[i], label=top_labels[i], linewidth='2.0')\n",
        "\n",
        "\n",
        "  ax.grid(which='major', linestyle=':', linewidth='1.0', alpha=grid_alpha)\n",
        "  ax.grid(which='minor', linestyle=':', linewidth='0.5', alpha=grid_alpha)\n",
        "\n",
        "  min_height = tf.reduce_min(top_probs) * playhead_scale\n",
        "  max_height = tf.reduce_max(top_probs)\n",
        "  ax.vlines(preview_line_x[step], min_height, max_height, colors='red')\n",
        "  ax.scatter(preview_line_x[step], max_height, color='red')\n",
        "\n",
        "  ax.legend(loc=legend_loc)\n",
        "\n",
        "  plt.xlim(0, duration_seconds)\n",
        "  plt.ylabel('Probability')\n",
        "  plt.xlabel('Time (s)')\n",
        "  plt.yscale('log')\n",
        "\n",
        "  fig.tight_layout()\n",
        "  fig.canvas.draw()\n",
        "\n",
        "  data = np.frombuffer(fig.canvas.tostring_rgb(), dtype=np.uint8)\n",
        "  data = data.reshape(fig.canvas.get_width_height()[::-1] + (3,))\n",
        "  plt.close()\n",
        "\n",
        "  figure_width = int(figure_height * data.shape[1] / data.shape[0])\n",
        "  image = PIL.Image.fromarray(data).resize([figure_width, figure_height])\n",
        "  image = np.array(image)\n",
        "\n",
        "  return image, (fig, ax, ax2)\n",
        "\n",
        "def plot_streaming_top_preds(\n",
        "    probs,\n",
        "    video,\n",
        "    top_k=5,\n",
        "    video_fps=25.,\n",
        "    figure_height=500,\n",
        "    use_progbar=True):\n",
        "  \"\"\"Generates a video plot of the top video model predictions.\n",
        "\n",
        "  Args:\n",
        "    probs: probability tensor of shape (num_frames, num_classes) that represents\n",
        "      the probability of each class on each frame.\n",
        "    video: the video to display in the plot.\n",
        "    top_k: the number of top predictions to select.\n",
        "    video_fps: the input video fps.\n",
        "    figure_fps: the output video fps.\n",
        "    figure_height: the height of the output video.\n",
        "    use_progbar: display a progress bar.\n",
        "\n",
        "  Returns:\n",
        "    A numpy array representing the output video.\n",
        "  \"\"\"\n",
        "  video_fps = 8.\n",
        "  figure_height = 500\n",
        "  steps = video.shape[0]\n",
        "  duration = steps / video_fps\n",
        "\n",
        "  top_probs, top_labels, _ = get_top_k_streaming_labels(probs, k=top_k)\n",
        "\n",
        "  images = []\n",
        "  step_generator = tqdm.trange(steps) if use_progbar else range(steps)\n",
        "  for i in step_generator:\n",
        "    image, _ = plot_streaming_top_preds_at_step(\n",
        "        top_probs=top_probs,\n",
        "        top_labels=top_labels,\n",
        "        step=i,\n",
        "        image=video[i],\n",
        "        duration_seconds=duration,\n",
        "        figure_height=figure_height,\n",
        "    )\n",
        "    images.append(image)\n",
        "\n",
        "  return np.array(images)"
      ]
    },
    {
      "cell_type": "code",
      "source": [
        "!wget https://thumbs.gfycat.com/CleanHomelyHarvestmouse-size_restricted.gif -O jumpingjack3.gif -q"
      ],
      "metadata": {
        "id": "DDk_zLbim6sl"
      },
      "execution_count": 37,
      "outputs": []
    },
    {
      "cell_type": "markdown",
      "metadata": {
        "id": "6g0tuFvf71S9"
      },
      "source": [
        "## Running Base Model Inference with TensorFlow Hub\n",
        "\n",
        "We will load MoViNet-A2-Base from TensorFlow Hub as part of the [MoViNet collection](https://tfhub.dev/google/collections/movinet/).\n",
        "\n",
        "The following code will:\n",
        "\n",
        "- Load a MoViNet KerasLayer from [tfhub.dev](https://tfhub.dev).\n",
        "- Wrap the layer in a [Keras Model](https://www.tensorflow.org/api_docs/python/tf/keras/Model).\n",
        "- Load an example gif as a video.\n",
        "- Classify the video and print the top-5 predicted classes."
      ]
    },
    {
      "cell_type": "code",
      "execution_count": 49,
      "metadata": {
        "id": "KZKKNZVBpglJ"
      },
      "outputs": [],
      "source": [
        "model = load_movinet_from_hub('a2', 'base', hub_version=3)"
      ]
    },
    {
      "cell_type": "markdown",
      "metadata": {
        "id": "7kU1_pL10l0B"
      },
      "source": [
        "To provide a simple example video for classification, we can load a short gif of jumping jacks being performed.\n",
        "\n",
        "![jumping jacks](https://github.com/tensorflow/models/raw/f8af2291cced43fc9f1d9b41ddbf772ae7b0d7d2/official/projects/movinet/files/jumpingjack.gif)\n",
        "\n",
        "Attribution: Footage shared by [Coach Bobby Bluford](https://www.youtube.com/watch?v=-AxHpj-EuPg) on YouTube under the CC-BY license."
      ]
    },
    {
      "cell_type": "code",
      "execution_count": 50,
      "metadata": {
        "id": "Iy0rKRrT723_",
        "outputId": "ef6769dc-16c0-48b2-eac4-cd60339ebcf8",
        "colab": {
          "base_uri": "https://localhost:8080/",
          "height": 213
        }
      },
      "outputs": [
        {
          "output_type": "stream",
          "name": "stdout",
          "text": [
            "(14, 172, 172, 3)\n"
          ]
        },
        {
          "output_type": "display_data",
          "data": {
            "text/plain": [
              "<IPython.core.display.HTML object>"
            ],
            "text/html": [
              "<table class=\"show_videos\" style=\"border-spacing:0px;\"><tr><td style=\"padding:1px;\"><video controls width=\"172\" height=\"172\" style=\"object-fit:cover;\" loop autoplay>\n",
              "      <source src=\"data:video/mp4;base64,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\" type=\"video/mp4\"/>\n",
              "      This browser does not support the video tag.\n",
              "      </video></td></tr></table>"
            ]
          },
          "metadata": {}
        }
      ],
      "source": [
        "video = load_gif('jumpingjack.gif', image_size=(172, 172))\n",
        "video = load_gif('jumpingjack3.gif', image_size=(172, 172))\n",
        "\n",
        "video = video[13:, :, :, :]\n",
        "\n",
        "# Show video\n",
        "print(video.shape)\n",
        "media.show_video(video.numpy(), fps=10)"
      ]
    },
    {
      "cell_type": "code",
      "execution_count": 51,
      "metadata": {
        "id": "P0bZfrAsqPv2",
        "outputId": "ec4390f1-6abe-4a08-c651-233489c68fee",
        "colab": {
          "base_uri": "https://localhost:8080/"
        }
      },
      "outputs": [
        {
          "output_type": "stream",
          "name": "stdout",
          "text": [
            "1/1 [==============================] - 15s 15s/step\n",
            "jumping jacks 0.72179466\n",
            "doing aerobics 0.07132756\n",
            "lunge 0.017707951\n",
            "exercising with an exercise ball 0.015570044\n",
            "dancing charleston 0.012822166\n"
          ]
        }
      ],
      "source": [
        "# Run the model on the video and output the top 5 predictions\n",
        "outputs = predict_top_k(model, video)\n",
        "\n",
        "for label, prob in outputs:\n",
        "  print(label, prob)"
      ]
    },
    {
      "cell_type": "markdown",
      "metadata": {
        "id": "ADrHPmwGcBZ5"
      },
      "source": [
        "## Run Streaming Model Inference with TensorFlow Hub and Plot Predictions\n",
        "\n",
        "We will load MoViNet-A0-Stream from TensorFlow Hub as part of the [MoViNet collection](https://tfhub.dev/google/collections/movinet/).\n",
        "\n",
        "The following code will:\n",
        "\n",
        "- Load a MoViNet model from [tfhub.dev](https://tfhub.dev).\n",
        "- Classify an example video and plot the streaming predictions over time."
      ]
    },
    {
      "cell_type": "code",
      "execution_count": 52,
      "metadata": {
        "id": "tXWR13wthnK5"
      },
      "outputs": [],
      "source": [
        "model = load_movinet_from_hub('a2', 'stream', hub_version=3)\n",
        "\n",
        "# Create initial states for the stream model\n",
        "init_states_fn = model.layers[-1].resolved_object.signatures['init_states']\n",
        "init_states = init_states_fn(tf.shape(video[tf.newaxis]))"
      ]
    },
    {
      "cell_type": "code",
      "execution_count": 53,
      "metadata": {
        "id": "YqSkt7l8ltwt",
        "outputId": "fd52fd54-0cbf-440e-cafd-00d32ff4a743",
        "colab": {
          "base_uri": "https://localhost:8080/"
        }
      },
      "outputs": [
        {
          "output_type": "stream",
          "name": "stderr",
          "text": [
            "100%|██████████| 14/14 [00:11<00:00,  1.23it/s]"
          ]
        },
        {
          "output_type": "stream",
          "name": "stdout",
          "text": [
            "\n",
            "jumping jacks 0.96775025\n",
            "dancing charleston 0.008956843\n",
            "doing aerobics 0.005532869\n",
            "dancing ballet 0.003706445\n",
            "tap dancing 0.0015327125\n"
          ]
        },
        {
          "output_type": "stream",
          "name": "stderr",
          "text": [
            "\n"
          ]
        }
      ],
      "source": [
        "# Insert your video clip here\n",
        "#video = load_gif('jumpingjack.gif', image_size=(172, 172))\n",
        "clips = tf.split(video[tf.newaxis], video.shape[0], axis=1)\n",
        "\n",
        "all_logits = []\n",
        "\n",
        "# To run on a video, pass in one frame at a time\n",
        "states = init_states\n",
        "for clip in tqdm.tqdm(clips):\n",
        "  # Input shape: [1, 1, 172, 172, 3]\n",
        "  logits, states = model.predict({**states, 'image': clip}, verbose=0)\n",
        "  all_logits.append(logits)\n",
        "\n",
        "logits = tf.concat(all_logits, 0)\n",
        "probs = tf.nn.softmax(logits)\n",
        "\n",
        "final_probs = probs[-1]\n",
        "top_k = get_top_k(final_probs)\n",
        "print()\n",
        "for label, prob in top_k:\n",
        "  print(label, prob)"
      ]
    },
    {
      "cell_type": "code",
      "execution_count": 54,
      "metadata": {
        "id": "Xdox556CtMRb",
        "outputId": "be1de2db-b517-4a02-f1bd-b199171bc24b",
        "colab": {
          "base_uri": "https://localhost:8080/"
        }
      },
      "outputs": [
        {
          "output_type": "stream",
          "name": "stderr",
          "text": [
            "100%|██████████| 14/14 [00:06<00:00,  2.25it/s]\n"
          ]
        }
      ],
      "source": [
        "# Generate a plot and output to a video tensor\n",
        "plot_video = plot_streaming_top_preds(probs, video, video_fps=8.)"
      ]
    },
    {
      "cell_type": "code",
      "execution_count": 55,
      "metadata": {
        "id": "NSStKE9klCs3",
        "outputId": "d2f4c2e2-b80c-4727-afbc-b35e69f6a566",
        "colab": {
          "base_uri": "https://localhost:8080/",
          "height": 523
        }
      },
      "outputs": [
        {
          "output_type": "display_data",
          "data": {
            "text/plain": [
              "<IPython.core.display.HTML object>"
            ],
            "text/html": [
              "<table class=\"show_videos\" style=\"border-spacing:0px;\"><tr><td style=\"padding:1px;\"><video controls width=\"464\" height=\"500\" style=\"object-fit:cover;\" loop autoplay>\n",
              "      <source src=\"data:video/mp4;base64,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\" type=\"video/mp4\"/>\n",
              "      This browser does not support the video tag.\n",
              "      </video></td></tr></table>"
            ]
          },
          "metadata": {}
        }
      ],
      "source": [
        "# For gif format, set codec='gif'\n",
        "media.show_video(plot_video, fps=3)"
      ]
    },
    {
      "cell_type": "markdown",
      "metadata": {
        "id": "W3CLHvubvdSI"
      },
      "source": [
        "## Export a Streaming Model to TensorFlow Lite for Mobile\n",
        "\n",
        "We will convert a MoViNet-A0-Stream model to [TensorFlow Lite](https://www.tensorflow.org/lite).\n",
        "\n",
        "The following code will:\n",
        "- Load a MoViNet-A0-Stream model.\n",
        "- Convert the model to TF Lite.\n",
        "- Run inference on an example video using the Python interpreter."
      ]
    },
    {
      "cell_type": "code",
      "execution_count": null,
      "metadata": {
        "id": "KH0j-07KVh06"
      },
      "outputs": [],
      "source": [
        "# Run imports\n",
        "from official.vision.configs import video_classification\n",
        "from official.projects.movinet.configs import movinet as movinet_configs\n",
        "from official.projects.movinet.modeling import movinet\n",
        "from official.projects.movinet.modeling import movinet_layers\n",
        "from official.projects.movinet.modeling import movinet_model\n",
        "from official.projects.movinet.tools import export_saved_model"
      ]
    },
    {
      "cell_type": "code",
      "execution_count": null,
      "metadata": {
        "id": "RLkV0xtPvfkY"
      },
      "outputs": [],
      "source": [
        "# Export to saved model\n",
        "saved_model_dir = 'model'\n",
        "tflite_filename = 'model.tflite'\n",
        "input_shape = [1, 1, 172, 172, 3]\n",
        "batch_size, num_frames, image_size, = input_shape[:3]\n",
        "\n",
        "tf.keras.backend.clear_session()\n",
        "\n",
        "# Create the model\n",
        "input_specs = tf.keras.layers.InputSpec(shape=input_shape)\n",
        "backbone = movinet.Movinet(\n",
        "    model_id='a0',\n",
        "    causal=True,\n",
        "    conv_type='2plus1d',\n",
        "    se_type='2plus3d',\n",
        "    input_specs=input_specs,\n",
        "    activation='hard_swish',\n",
        "    gating_activation='hard_sigmoid',\n",
        "    use_sync_bn=False,\n",
        "    use_external_states=True)\n",
        "model = movinet_model.MovinetClassifier(\n",
        "    backbone=backbone,\n",
        "    activation='hard_swish',\n",
        "    num_classes=600,\n",
        "    output_states=True,\n",
        "    input_specs=dict(image=input_specs))\n",
        "model.build([1, 1, 1, 1, 3])\n",
        "\n",
        "# Extract pretrained weights\n",
        "!wget https://storage.googleapis.com/tf_model_garden/vision/movinet/movinet_a0_stream.tar.gz -O movinet_a0_stream.tar.gz -q\n",
        "!tar -xvf movinet_a0_stream.tar.gz\n",
        "\n",
        "checkpoint_dir = 'movinet_a0_stream'\n",
        "checkpoint_path = tf.train.latest_checkpoint(checkpoint_dir)\n",
        "\n",
        "# Convert to saved model\n",
        "export_saved_model.export_saved_model(\n",
        "    model=model,\n",
        "    input_shape=input_shape,\n",
        "    export_path=saved_model_dir,\n",
        "    causal=True,\n",
        "    bundle_input_init_states_fn=False,\n",
        "    checkpoint_path=checkpoint_path)"
      ]
    },
    {
      "cell_type": "code",
      "execution_count": null,
      "metadata": {
        "id": "gPg_6eMC8IwF"
      },
      "outputs": [],
      "source": [
        "# Convert to TF Lite\n",
        "converter = tf.lite.TFLiteConverter.from_saved_model(saved_model_dir)\n",
        "tflite_model = converter.convert()\n",
        "\n",
        "with open(tflite_filename, 'wb') as f:\n",
        "  f.write(tflite_model)\n",
        "\n",
        "# Create the interpreter and signature runner\n",
        "interpreter = tf.lite.Interpreter(model_path=tflite_filename)\n",
        "runner = interpreter.get_signature_runner()\n",
        "\n",
        "init_states = {\n",
        "    name: tf.zeros(x['shape'], dtype=x['dtype'])\n",
        "    for name, x in runner.get_input_details().items()\n",
        "}\n",
        "del init_states['image']"
      ]
    },
    {
      "cell_type": "code",
      "execution_count": null,
      "metadata": {
        "id": "-TQ-7oSJIlTA",
        "outputId": "a15519ff-d08c-40bc-fbea-d3a58169450c"
      },
      "outputs": [
        {
          "name": "stdout",
          "output_type": "stream",
          "text": [
            "jumping jacks 0.9791285\n",
            "jogging 0.0019550633\n",
            "riding unicycle 0.0017429002\n",
            "passing soccer ball 0.0016952101\n",
            "stretching arm 0.0014458151\n"
          ]
        }
      ],
      "source": [
        "# Insert your video clip here\n",
        "video = load_gif('jumpingjack.gif', image_size=(172, 172))\n",
        "clips = tf.split(video[tf.newaxis], video.shape[0], axis=1)\n",
        "\n",
        "# To run on a video, pass in one frame at a time\n",
        "states = init_states\n",
        "for clip in clips:\n",
        "  # Input shape: [1, 1, 172, 172, 3]\n",
        "  outputs = runner(**states, image=clip)\n",
        "  logits = outputs.pop('logits')[0]\n",
        "  states = outputs\n",
        "\n",
        "probs = tf.nn.softmax(logits)\n",
        "top_k = get_top_k(probs)\n",
        "print()\n",
        "for label, prob in top_k:\n",
        "  print(label, prob)"
      ]
    },
    {
      "cell_type": "markdown",
      "metadata": {
        "id": "_s-7bEoa3f8g"
      },
      "source": [
        "## Fine-Tune a Base Model with the TensorFlow Model Garden\n",
        "\n",
        "We will Fine-tune MoViNet-A0-Base on [UCF-101](https://www.crcv.ucf.edu/research/data-sets/ucf101/).\n",
        "\n",
        "The following code will:\n",
        "\n",
        "- Load the UCF-101 dataset with [TensorFlow Datasets](https://www.tensorflow.org/datasets/catalog/ucf101).\n",
        "- Create a simple [`tf.data.Dataset`](https://www.tensorflow.org/api_docs/python/tf/data/Dataset) pipeline for training and evaluation.\n",
        "- Display some example videos from the dataset.\n",
        "- Build a MoViNet model and load pretrained weights.\n",
        "- Fine-tune the final classifier layers on UCF-101 and evaluate accuracy on the validation set."
      ]
    },
    {
      "cell_type": "markdown",
      "metadata": {
        "id": "o7unW4WVr580"
      },
      "source": [
        "### Load the UCF-101 Dataset with TensorFlow Datasets\n",
        "\n",
        "Calling `download_and_prepare()` will automatically download the dataset. This step may take up to 1 hour depending on the download and extraction speed. After downloading, the next cell will output information about the dataset."
      ]
    },
    {
      "cell_type": "code",
      "execution_count": null,
      "metadata": {
        "id": "2IHLbPAfrs5P"
      },
      "outputs": [],
      "source": [
        "# Run imports\n",
        "import tensorflow_datasets as tfds\n",
        "\n",
        "from official.vision.configs import video_classification\n",
        "from official.projects.movinet.configs import movinet as movinet_configs\n",
        "from official.projects.movinet.modeling import movinet\n",
        "from official.projects.movinet.modeling import movinet_layers\n",
        "from official.projects.movinet.modeling import movinet_model"
      ]
    },
    {
      "cell_type": "code",
      "execution_count": null,
      "metadata": {
        "id": "FxM1vNYp_YAM"
      },
      "outputs": [],
      "source": [
        "dataset_name = 'ucf101'\n",
        "\n",
        "builder = tfds.builder(dataset_name)\n",
        "\n",
        "config = tfds.download.DownloadConfig(verify_ssl=False)\n",
        "builder.download_and_prepare(download_config=config)"
      ]
    },
    {
      "cell_type": "code",
      "execution_count": null,
      "metadata": {
        "id": "boQHbcfDhXpJ",
        "outputId": "eabc3307-d6bf-4f29-cc5a-c8dc6360701b"
      },
      "outputs": [
        {
          "name": "stdout",
          "output_type": "stream",
          "text": [
            "Number of classes: 101\n",
            "Number of examples for train: 9537\n",
            "Number of examples for test: 3783\n",
            "\n"
          ]
        },
        {
          "data": {
            "text/plain": [
              "tfds.core.DatasetInfo(\n",
              "    name='ucf101',\n",
              "    full_name='ucf101/ucf101_1_256/2.0.0',\n",
              "    description=\"\"\"\n",
              "    A 101-label video classification dataset.\n",
              "    \"\"\",\n",
              "    config_description=\"\"\"\n",
              "    256x256 UCF with the first action recognition split.\n",
              "    \"\"\",\n",
              "    homepage='https://www.crcv.ucf.edu/data-sets/ucf101/',\n",
              "    data_path='/readahead/128M/placer/prod/home/tensorflow-datasets-cns-storage-owner/datasets/ucf101/ucf101_1_256/2.0.0',\n",
              "    download_size=6.48 GiB,\n",
              "    dataset_size=Unknown size,\n",
              "    features=FeaturesDict({\n",
              "        'label': ClassLabel(shape=(), dtype=tf.int64, num_classes=101),\n",
              "        'video': Video(Image(shape=(256, 256, 3), dtype=tf.uint8)),\n",
              "    }),\n",
              "    supervised_keys=None,\n",
              "    splits={\n",
              "        'test': <SplitInfo num_examples=3783, num_shards=32>,\n",
              "        'train': <SplitInfo num_examples=9537, num_shards=64>,\n",
              "    },\n",
              "    citation=\"\"\"@article{DBLP:journals/corr/abs-1212-0402,\n",
              "      author    = {Khurram Soomro and\n",
              "                   Amir Roshan Zamir and\n",
              "                   Mubarak Shah},\n",
              "      title     = {{UCF101:} {A} Dataset of 101 Human Actions Classes From Videos in\n",
              "                   The Wild},\n",
              "      journal   = {CoRR},\n",
              "      volume    = {abs/1212.0402},\n",
              "      year      = {2012},\n",
              "      url       = {http://arxiv.org/abs/1212.0402},\n",
              "      archivePrefix = {arXiv},\n",
              "      eprint    = {1212.0402},\n",
              "      timestamp = {Mon, 13 Aug 2018 16:47:45 +0200},\n",
              "      biburl    = {https://dblp.org/rec/bib/journals/corr/abs-1212-0402},\n",
              "      bibsource = {dblp computer science bibliography, https://dblp.org}\n",
              "    }\"\"\",\n",
              ")"
            ]
          },
          "execution_count": null,
          "metadata": {
            "tags": []
          },
          "output_type": "execute_result"
        }
      ],
      "source": [
        "num_classes = builder.info.features['label'].num_classes\n",
        "num_examples = {\n",
        "    name: split.num_examples\n",
        "    for name, split in builder.info.splits.items()\n",
        "}\n",
        "\n",
        "print('Number of classes:', num_classes)\n",
        "print('Number of examples for train:', num_examples['train'])\n",
        "print('Number of examples for test:', num_examples['test'])\n",
        "print()\n",
        "\n",
        "builder.info"
      ]
    },
    {
      "cell_type": "code",
      "execution_count": null,
      "metadata": {
        "id": "9cO_BCu9le3r"
      },
      "outputs": [],
      "source": [
        "# Build the training and evaluation datasets.\n",
        "\n",
        "batch_size = 8\n",
        "num_frames = 8\n",
        "frame_stride = 10\n",
        "resolution = 172\n",
        "\n",
        "def format_features(features):\n",
        "  video = features['video']\n",
        "  video = video[:, ::frame_stride]\n",
        "  video = video[:, :num_frames]\n",
        "\n",
        "  video = tf.reshape(video, [-1, video.shape[2], video.shape[3], 3])\n",
        "  video = tf.image.resize(video, (resolution, resolution))\n",
        "  video = tf.reshape(video, [-1, num_frames, resolution, resolution, 3])\n",
        "  video = tf.cast(video, tf.float32) / 255.\n",
        "\n",
        "  label = tf.one_hot(features['label'], num_classes)\n",
        "  return (video, label)\n",
        "\n",
        "train_dataset = builder.as_dataset(\n",
        "    split='train',\n",
        "    batch_size=batch_size,\n",
        "    shuffle_files=True)\n",
        "train_dataset = train_dataset.map(\n",
        "    format_features,\n",
        "    num_parallel_calls=tf.data.AUTOTUNE)\n",
        "train_dataset = train_dataset.repeat()\n",
        "train_dataset = train_dataset.prefetch(2)\n",
        "\n",
        "test_dataset = builder.as_dataset(\n",
        "    split='test',\n",
        "    batch_size=batch_size)\n",
        "test_dataset = test_dataset.map(\n",
        "    format_features,\n",
        "    num_parallel_calls=tf.data.AUTOTUNE,\n",
        "    deterministic=True)\n",
        "test_dataset = test_dataset.prefetch(2)"
      ]
    },
    {
      "cell_type": "markdown",
      "metadata": {
        "id": "rToX7_Ymgh57"
      },
      "source": [
        "Display some example videos from the dataset."
      ]
    },
    {
      "cell_type": "code",
      "execution_count": null,
      "metadata": {
        "id": "KG8Z7rUj06of"
      },
      "outputs": [],
      "source": [
        "videos, labels = next(iter(train_dataset))\n",
        "media.show_videos(videos.numpy(), codec='gif', fps=5)"
      ]
    },
    {
      "cell_type": "markdown",
      "metadata": {
        "id": "R3RHeuHdsd_3"
      },
      "source": [
        "### Build MoViNet-A0-Base and Load Pretrained Weights\n",
        "\n",
        "Here we create a MoViNet model using the open source code provided in [official/projects/movinet](https://github.com/tensorflow/models/tree/master/official/projects/movinet) and load the pretrained weights. Here we freeze the all layers except the final classifier head to speed up fine-tuning."
      ]
    },
    {
      "cell_type": "code",
      "execution_count": null,
      "metadata": {
        "id": "JpfxpeGSsbzJ"
      },
      "outputs": [],
      "source": [
        "model_id = 'a0'\n",
        "\n",
        "tf.keras.backend.clear_session()\n",
        "\n",
        "backbone = movinet.Movinet(model_id=model_id)\n",
        "model = movinet_model.MovinetClassifier(backbone=backbone, num_classes=600)\n",
        "model.build([1, 1, 1, 1, 3])\n",
        "\n",
        "# Load pretrained weights\n",
        "!wget https://storage.googleapis.com/tf_model_garden/vision/movinet/movinet_a0_base.tar.gz -O movinet_a0_base.tar.gz -q\n",
        "!tar -xvf movinet_a0_base.tar.gz\n",
        "\n",
        "checkpoint_dir = 'movinet_a0_base'\n",
        "checkpoint_path = tf.train.latest_checkpoint(checkpoint_dir)\n",
        "checkpoint = tf.train.Checkpoint(model=model)\n",
        "status = checkpoint.restore(checkpoint_path)\n",
        "status.assert_existing_objects_matched()\n",
        "\n",
        "def build_classifier(backbone, num_classes, freeze_backbone=False):\n",
        "  \"\"\"Builds a classifier on top of a backbone model.\"\"\"\n",
        "  model = movinet_model.MovinetClassifier(\n",
        "      backbone=backbone,\n",
        "      num_classes=num_classes)\n",
        "  model.build([batch_size, num_frames, resolution, resolution, 3])\n",
        "\n",
        "  if freeze_backbone:\n",
        "    for layer in model.layers[:-1]:\n",
        "      layer.trainable = False\n",
        "    model.layers[-1].trainable = True\n",
        "\n",
        "  return model\n",
        "\n",
        "# Wrap the backbone with a new classifier to create a new classifier head\n",
        "# with num_classes outputs (101 classes for UCF101).\n",
        "# Freeze all layers except for the final classifier head.\n",
        "model = build_classifier(backbone, num_classes, freeze_backbone=True)"
      ]
    },
    {
      "cell_type": "markdown",
      "metadata": {
        "id": "ucntdu2xqgXB"
      },
      "source": [
        "Configure fine-tuning with training/evaluation steps, loss object, metrics, learning rate, optimizer, and callbacks.\n",
        "\n",
        "Here we use 3 epochs. Training for more epochs should improve accuracy."
      ]
    },
    {
      "cell_type": "code",
      "execution_count": null,
      "metadata": {
        "id": "WUYTw48BouTu"
      },
      "outputs": [],
      "source": [
        "num_epochs = 3\n",
        "\n",
        "train_steps = num_examples['train'] // batch_size\n",
        "total_train_steps = train_steps * num_epochs\n",
        "test_steps = num_examples['test'] // batch_size\n",
        "\n",
        "loss_obj = tf.keras.losses.CategoricalCrossentropy(\n",
        "    from_logits=True,\n",
        "    label_smoothing=0.1)\n",
        "\n",
        "metrics = [\n",
        "    tf.keras.metrics.TopKCategoricalAccuracy(\n",
        "        k=1, name='top_1', dtype=tf.float32),\n",
        "    tf.keras.metrics.TopKCategoricalAccuracy(\n",
        "        k=5, name='top_5', dtype=tf.float32),\n",
        "]\n",
        "\n",
        "initial_learning_rate = 0.01\n",
        "learning_rate = tf.keras.optimizers.schedules.CosineDecay(\n",
        "    initial_learning_rate, decay_steps=total_train_steps,\n",
        ")\n",
        "optimizer = tf.keras.optimizers.RMSprop(\n",
        "    learning_rate, rho=0.9, momentum=0.9, epsilon=1.0, clipnorm=1.0)\n",
        "\n",
        "model.compile(loss=loss_obj, optimizer=optimizer, metrics=metrics)\n",
        "\n",
        "callbacks = [\n",
        "    tf.keras.callbacks.TensorBoard(),\n",
        "]"
      ]
    },
    {
      "cell_type": "markdown",
      "metadata": {
        "id": "0IyAOOlcpHna"
      },
      "source": [
        "Run the fine-tuning with Keras compile/fit. After fine-tuning the model, we should be able to achieve >85% accuracy on the test set."
      ]
    },
    {
      "cell_type": "code",
      "execution_count": null,
      "metadata": {
        "id": "Zecc_K3lga8I",
        "outputId": "e4c5c61e-aa08-47db-c04c-42dea3efb545"
      },
      "outputs": [
        {
          "name": "stdout",
          "output_type": "stream",
          "text": [
            "Epoch 1/3\n",
            "1192/1192 [==============================] - 551s 451ms/step - loss: 2.5050 - top_1: 0.6692 - top_5: 0.8753 - val_loss: 1.6310 - val_top_1: 0.8109 - val_top_5: 0.9701\n",
            "Epoch 2/3\n",
            "1192/1192 [==============================] - 533s 447ms/step - loss: 1.3336 - top_1: 0.9024 - top_5: 0.9906 - val_loss: 1.4576 - val_top_1: 0.8451 - val_top_5: 0.9740\n",
            "Epoch 3/3\n",
            "1192/1192 [==============================] - 531s 446ms/step - loss: 1.2298 - top_1: 0.9329 - top_5: 0.9943 - val_loss: 1.4351 - val_top_1: 0.8514 - val_top_5: 0.9762\n"
          ]
        }
      ],
      "source": [
        "results = model.fit(\n",
        "    train_dataset,\n",
        "    validation_data=test_dataset,\n",
        "    epochs=num_epochs,\n",
        "    steps_per_epoch=train_steps,\n",
        "    validation_steps=test_steps,\n",
        "    callbacks=callbacks,\n",
        "    validation_freq=1,\n",
        "    verbose=1)"
      ]
    },
    {
      "cell_type": "markdown",
      "metadata": {
        "id": "XuH8XflmpU9d"
      },
      "source": [
        "We can also view the training and evaluation progress in TensorBoard."
      ]
    },
    {
      "cell_type": "code",
      "execution_count": null,
      "metadata": {
        "id": "9fZhzhRJRd2J"
      },
      "outputs": [],
      "source": [
        "%reload_ext tensorboard\n",
        "%tensorboard --logdir logs --port 0"
      ]
    }
  ],
  "metadata": {
    "colab": {
      "name": "movinet_tutorial.ipynb",
      "provenance": []
    },
    "kernelspec": {
      "display_name": "Python 3",
      "name": "python3"
    },
    "language_info": {
      "name": "python"
    }
  },
  "nbformat": 4,
  "nbformat_minor": 0
}